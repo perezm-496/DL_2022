{
  "cells": [
    {
      "cell_type": "markdown",
      "metadata": {
        "id": "view-in-github",
        "colab_type": "text"
      },
      "source": [
        "<a href=\"https://colab.research.google.com/github/perezm-496/DL_2022/blob/main/01_Intro_Basics.ipynb\" target=\"_parent\"><img src=\"https://colab.research.google.com/assets/colab-badge.svg\" alt=\"Open In Colab\"/></a>"
      ]
    },
    {
      "cell_type": "markdown",
      "metadata": {
        "id": "x3evMhQyX3Iz"
      },
      "source": [
        "Author: Michaelle A. Perez\n",
        "\n",
        "# Neural Networks 1\n",
        "\n",
        "- ML Problem\n",
        "- Classification Problem\n",
        "- Data\n",
        "- Model\n",
        "- Optimization Process\n",
        "- Evaluation\n"
      ]
    },
    {
      "cell_type": "code",
      "execution_count": null,
      "metadata": {
        "id": "_tJd-rTpX3I1"
      },
      "outputs": [],
      "source": [
        "import numpy as np\n",
        "import matplotlib.pyplot as plt\n"
      ]
    },
    {
      "cell_type": "markdown",
      "metadata": {
        "id": "S93P7zW0X3I3"
      },
      "source": [
        "## Data\n",
        "\n",
        "Artificial data.\n",
        "Linearly Separable\n"
      ]
    },
    {
      "cell_type": "markdown",
      "metadata": {
        "id": "pagPepFKX3I3"
      },
      "source": [
        "## A Simple Classification Problem\n",
        "\n",
        "The desired predictions are:\n",
        "$$\\hat{y} = \\begin{cases} 1 & \\text{positive} \\\\ 0 & \\text{negative} \\end{cases}$$\n"
      ]
    },
    {
      "cell_type": "code",
      "execution_count": null,
      "metadata": {
        "id": "ddTFW0n4X3I3",
        "outputId": "0ed12eb1-c765-44ac-af82-c1681917439e"
      },
      "outputs": [
        {
          "data": {
            "text/plain": [
              "<matplotlib.collections.PathCollection at 0x7fbd53fc0ba8>"
            ]
          },
          "execution_count": 53,
          "metadata": {},
          "output_type": "execute_result"
        },
        {
          "data": {
            "image/png": "[encoded data removed]",
            "text/plain": [
              "<Figure size 432x288 with 1 Axes>"
            ]
          },
          "metadata": {
            "needs_background": "light"
          },
          "output_type": "display_data"
        }
      ],
      "source": [
        "name = \"01_data.npz\"\n",
        "data = np.load(name)\n",
        "    \n",
        "# Examples -- Training\n",
        "X = data['X_train'] # input values\n",
        "t = data['t_train'] # target values\n",
        "\n",
        "positives = X[:,t == 1][:-1,:]\n",
        "negatives = X[:,t == 0][:-1,:]\n",
        "\n",
        "plt.scatter(positives[0,:], positives[1,:], color='red')\n",
        "plt.scatter(negatives[0,:], negatives[1,:], color='green')"
      ]
    },
    {
      "cell_type": "markdown",
      "metadata": {
        "id": "fpuiFgIqX3I5"
      },
      "source": [
        "# Model\n",
        "\n",
        "Using a linear model described by:\n",
        "$$ \\hat{y} = h(W\\, X)$$\n",
        "\n",
        "This is a simplification of $\\hat{y} = h(W \\, X + b)$.\n"
      ]
    },
    {
      "cell_type": "markdown",
      "metadata": {
        "id": "zhYpOmRMX3I5"
      },
      "source": [
        "## Activation Function\n",
        "\n",
        "- To produce a prediction as 1 or 0, you should use a Heaviside function.\n",
        "- We go with a sigmoid function to make use of calculus, since is diferentiable.\n",
        "$$\\sigma(t) = \\frac{1}{1 + e^{-t}}$$"
      ]
    },
    {
      "cell_type": "code",
      "execution_count": null,
      "metadata": {
        "id": "GcQc9LOUX3I5",
        "outputId": "c0169ab5-17d6-474c-c324-0e2df1eb5517"
      },
      "outputs": [
        {
          "data": {
            "text/plain": [
              "[<matplotlib.lines.Line2D at 0x7fbd53f98f98>]"
            ]
          },
          "execution_count": 54,
          "metadata": {},
          "output_type": "execute_result"
        },
        {
          "data": {
            "image/png": "[encoded data removed]",
            "text/plain": [
              "<Figure size 432x288 with 1 Axes>"
            ]
          },
          "metadata": {
            "needs_background": "light"
          },
          "output_type": "display_data"
        }
      ],
      "source": [
        "def sigmoid(x):\n",
        "    return 1.0/(1 + np.exp(-x))\n",
        "\n",
        "tt = np.linspace(-5, 5, 1000)\n",
        "plt.grid()\n",
        "plt.plot(tt, sigmoid(tt))"
      ]
    },
    {
      "cell_type": "markdown",
      "metadata": {
        "id": "TWY3DfYUX3I6"
      },
      "source": [
        "# Optimization Process\n",
        "\n",
        "You don't know what $W$ will make the best job for the classification.\n",
        "\n",
        "## A Loss Function.\n",
        "\n",
        "We use a function that penalizes miss classifications and rewards correct classifications. In fact we try to approximate $p(Y = y_i \\, | \\, X = x_i)$. For that we use:\n",
        "\n",
        "$$L(t, \\hat{y}) =  -t \\, \\log \\hat{y} - (1-t) \\, \\log ( 1 - \\hat{y}) $$."
      ]
    },
    {
      "cell_type": "code",
      "execution_count": null,
      "metadata": {
        "id": "hfI0TFrBX3I6",
        "outputId": "197147a8-736d-4f04-c1e8-4c83e3ae2207"
      },
      "outputs": [
        {
          "data": {
            "text/plain": [
              "[<matplotlib.lines.Line2D at 0x7fbd53f483c8>]"
            ]
          },
          "execution_count": 55,
          "metadata": {},
          "output_type": "execute_result"
        },
        {
          "data": {
            "image/png": "[encoded data removed]",
            "text/plain": [
              "<Figure size 432x288 with 1 Axes>"
            ]
          },
          "metadata": {
            "needs_background": "light"
          },
          "output_type": "display_data"
        }
      ],
      "source": [
        "def log_loss(t, y):\n",
        "    return -t*np.log(y) - (1-t)*np.log( 1 - y)\n",
        "\n",
        "yy = np.linspace(0.1, 0.9, 100)\n",
        "\n",
        "ax = plt.subplot()\n",
        "\n",
        "ax.grid()\n",
        "ax.plot(yy, log_loss(1, yy), label='positive case', color='red')\n",
        "ax.plot(yy, log_loss(0, yy), label='negative case', color='green')\n"
      ]
    },
    {
      "cell_type": "markdown",
      "metadata": {
        "id": "QTUbZ_KoX3I7"
      },
      "source": [
        "## Cost\n",
        "\n",
        "The cost is the sum of the loss function over all the examples:\n",
        "$$J = \\frac{1}{m} \\sum_{i=1}^N L(t^{(i)}, \\hat{y}^{(i)})$$"
      ]
    },
    {
      "cell_type": "code",
      "execution_count": null,
      "metadata": {
        "id": "nN350_SOX3I7"
      },
      "outputs": [],
      "source": [
        "def cost(t, y):\n",
        "    N = y.shape[0]\n",
        "    return np.sum(log_loss(t, y))\n"
      ]
    },
    {
      "cell_type": "markdown",
      "metadata": {
        "id": "K8cX1HGEX3I7"
      },
      "source": [
        "## Parameter Initialization\n",
        "\n",
        "We start with a random value."
      ]
    },
    {
      "cell_type": "code",
      "execution_count": null,
      "metadata": {
        "id": "P3r1YTrKX3I8",
        "outputId": "53981904-1e7e-45f3-a010-24cf64a49384"
      },
      "outputs": [
        {
          "name": "stdout",
          "output_type": "stream",
          "text": [
            "Costo inicial: 82.02456796641329\n"
          ]
        }
      ],
      "source": [
        "W = np.random.rand(1, 3)\n",
        "y = sigmoid(W.dot(X)) # Output\n",
        "print(f\"Costo inicial: {cost(T, y)}\")"
      ]
    },
    {
      "cell_type": "markdown",
      "metadata": {
        "id": "fS__mAgmX3I8"
      },
      "source": [
        "# Optimization\n",
        "\n",
        "We use the idea of gradient descent. Notice that this has some hyperparamteres.\n",
        "\n",
        "## Learning rate\n",
        "\n",
        "$\\alpha$ in the equation:\n",
        "$$ W = W - \\alpha \\nabla J$$\n",
        "is called the learning rate.\n",
        "\n",
        "## Epochs\n",
        "\n",
        "Each time that all the data is used to make an update of the paramters $W$."
      ]
    },
    {
      "cell_type": "code",
      "execution_count": null,
      "metadata": {
        "id": "ZfWhUmn3X3I8",
        "outputId": "53481463-5fda-4a8e-8b8f-7308ed9e8bdc"
      },
      "outputs": [
        {
          "data": {
            "text/plain": [
              "[<matplotlib.lines.Line2D at 0x7fbd53ef27f0>]"
            ]
          },
          "execution_count": 58,
          "metadata": {},
          "output_type": "execute_result"
        },
        {
          "data": {
            "image/png": "[encoded data removed]",
            "text/plain": [
              "<Figure size 432x288 with 1 Axes>"
            ]
          },
          "metadata": {
            "needs_background": "light"
          },
          "output_type": "display_data"
        }
      ],
      "source": [
        "W = np.random.rand(1, 3) # Inicialización\n",
        "total_epochs = 100 # total de iteraciones\n",
        "lr = 0.009 # Learning Rate\n",
        "cost_list = [] # Llevamos control del costo\n",
        "for epoch in range(total_epochs):\n",
        "    Y = sigmoid(W.dot(X)) # Salida del modelo\n",
        "    m = Y.shape[0]\n",
        "    dW = 1/m*np.dot((Y - T), X.T) # Gradiente -- dW\n",
        "    W = W - lr*dW # Actualización\n",
        "    cost_list.append(cost(T, Y)) # Costo agregado a lista.\n",
        "\n",
        "plt.grid()\n",
        "plt.plot(range(100), cost_list)\n",
        "    "
      ]
    },
    {
      "cell_type": "markdown",
      "metadata": {
        "id": "LgdWZ8ZRX3I9"
      },
      "source": [
        "# Evaluation\n",
        "\n",
        "You build a model that computes $\\hat{y}$ a prediction for $P(Y = t^{(i)} \\, | \\, X = x^{(i)})$. To give a definitive answer it is used the prediction values. The predicted values are a function of threshold value:\n",
        "$$\\text{pred}(x^{(i)}) = [ \\sigma(W \\ x^{(i)}) \\geq B ]$$\n",
        "\n",
        "To statistically analyze how good the model is we can use a simple acc, count the number of correct answers:"
      ]
    },
    {
      "cell_type": "code",
      "execution_count": null,
      "metadata": {
        "id": "kVTm4H7TX3I9",
        "outputId": "09c24dae-3bd4-4f71-a379-574f4e3b2434"
      },
      "outputs": [
        {
          "name": "stdout",
          "output_type": "stream",
          "text": [
            "Acc: 0.9500000000000001\n"
          ]
        }
      ],
      "source": [
        "def pred(y, B = 0.5):\n",
        "    return np.heaviside(y - B, 0)\n",
        "\n",
        "m = T.shape[0]\n",
        "Y = sigmoid(W.dot(X))\n",
        "acc = 1/m*np.sum(pred(Y) == T)\n",
        "print(f\"Acc: {acc}\")\n"
      ]
    },
    {
      "cell_type": "code",
      "execution_count": null,
      "metadata": {
        "id": "YkOg_VhaX3I-",
        "outputId": "9db7412d-546c-4b95-90ac-de4ca23e84d2"
      },
      "outputs": [
        {
          "data": {
            "text/plain": [
              "array([[1., 0., 0., 1., 0., 1., 0., 0., 0., 1., 1., 0., 0., 0., 0., 0.,\n",
              "        1., 1., 0., 1., 1., 1., 0., 0., 1., 0., 0., 1., 1., 1., 1., 1.,\n",
              "        0., 0., 1., 0., 1., 0., 0., 1., 0., 1., 0., 0., 0., 0., 0., 1.,\n",
              "        0., 1., 0., 0., 1., 1., 0., 1., 0., 0., 0., 0., 0., 0., 1., 0.,\n",
              "        1., 0., 0., 0., 1., 1., 1., 1., 1., 1., 1., 1., 1., 1., 0., 1.,\n",
              "        1., 1., 1., 1., 0., 0., 1., 0., 0., 1., 0., 1., 1., 1., 1., 0.,\n",
              "        0., 1., 0., 0.]])"
            ]
          },
          "execution_count": 62,
          "metadata": {},
          "output_type": "execute_result"
        }
      ],
      "source": [
        "pred(Y)"
      ]
    },
    {
      "cell_type": "code",
      "execution_count": null,
      "metadata": {
        "id": "sBDhtWIXX3I-"
      },
      "outputs": [],
      "source": [
        ""
      ]
    }
  ],
  "metadata": {
    "kernelspec": {
      "display_name": "Python 3",
      "language": "python",
      "name": "python3"
    },
    "language_info": {
      "codemirror_mode": {
        "name": "ipython",
        "version": 3
      },
      "file_extension": ".py",
      "mimetype": "text/x-python",
      "name": "python",
      "nbconvert_exporter": "python",
      "pygments_lexer": "ipython3",
      "version": "3.6.9"
    },
    "name": "01_Intro_Basics.ipynb",
    "colab": {
      "name": "01_Intro_Basics.ipynb",
      "provenance": [],
      "include_colab_link": true
    }
  },
  "nbformat": 4,
  "nbformat_minor": 0
}